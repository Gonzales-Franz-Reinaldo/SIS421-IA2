{
  "nbformat": 4,
  "nbformat_minor": 0,
  "metadata": {
    "colab": {
      "provenance": []
    },
    "kernelspec": {
      "name": "python3",
      "display_name": "Python 3"
    },
    "language_info": {
      "name": "python"
    }
  },
  "cells": [
    {
      "cell_type": "markdown",
      "source": [
        "#**LAB-01 DE SIS421 - USO DE FRAMEWORKS**\n",
        "\n",
        "Nombre: Gonzales Suyo Franz Reinaldo\n",
        "\n",
        "C.U. 111-500"
      ],
      "metadata": {
        "id": "PrSxqro7ASoy"
      }
    },
    {
      "cell_type": "markdown",
      "source": [
        "Contruya un mlp para clasificación de imagenes, utilizando un framework de terceros que no sea pytorch o keras, el dataset que utilizara sea el de plantas medicinales con las que se cuenten respaldadas hasta la fecha, se debe realizar una explicacion detallada de como funciona el framework elegido, como de los resultados obtenidos.\n",
        "\n",
        "DIRECCIÓN DE GITHUB - LAB-01 FRAMEWORK GLUON\n",
        "link de GitHub: https://github.com/Gonzales-Franz-Reinaldo/SIS421-IA2/tree/main/Laboratorios/LAB-01-Framework"
      ],
      "metadata": {
        "id": "QA8nivhZE5Pn"
      }
    },
    {
      "cell_type": "markdown",
      "source": [
        "##**FRAMEWORK - GLOUN**\n",
        "\n",
        "En esta práctica Aplicaremos un Framework que casi no es muy conocido, pero puede ser aplicado en campo de inteligencia artifical ya sea para crear o diseñar una Red Neuronal.\n",
        "\n",
        "Sin embargo el Framework que utilizaremos es el **GLUON** que es un framework que tiene al igual que otras frameworks, tiene funcion y librerias que se puden utilizar para crear una Red Neuronal. Por lo que en esta práctica aplicaremos este framework."
      ],
      "metadata": {
        "id": "GUCQrZzMAZMR"
      }
    },
    {
      "cell_type": "markdown",
      "source": [
        "##Explicación del Framework Gluon\n",
        "\n",
        "Gluon es una interfaz de alto nivel incluida en MXNet que permite la construcción y el entrenamiento de modelos de deep learning de manera más sencilla y rápida.\n",
        "\n",
        "Con Gluon, puedes definir redes neuronales de manera dinámica, lo que facilita la experimentación. Proporciona una API de alto nivel que abstrae muchos detalles de implementación, permitiendo a los usuarios enfocarse en el diseño y entrenamiento de sus modelos."
      ],
      "metadata": {
        "id": "OE2Q2JGlAdFi"
      }
    },
    {
      "cell_type": "markdown",
      "source": [
        "###Un poco de Teoría del Framework Gluon\n",
        "\n",
        "Gluon es una interfaz de alto nivel en MXNet que combina las ventajas de las interfaces estáticas y dinámicas. Permite construir modelos de manera intuitiva y dinámicamente, lo que facilita la depuración y la experimentación. Gluon proporciona componentes predefinidos para construir redes neuronales, funciones de pérdida y optimizadores, haciendo que el desarrollo de modelos sea más sencillo y eficiente.\n",
        "\n",
        "###Algunas Ventajas de Gluon son:\n",
        "\n",
        "- 1.**Flexibilidad**: Permite la definición dinámica de modelos, lo que facilita la experimentación y el ajuste de los mismos.\n",
        "\n",
        "- 2.**Simplicidad**: Proporciona una API intuitiva que abstrae muchos detalles complejos, permitiendo a los usuarios enfocarse en el diseño del modelo.\n",
        "\n",
        "- 3.**Rendimiento**: Aprovecha la eficiencia de MXNet, lo que permite construir y entrenar modelos de deep learning de manera rápida y eficiente."
      ],
      "metadata": {
        "id": "_JWQgKiIAg2J"
      }
    },
    {
      "cell_type": "markdown",
      "source": [
        "##**PROCESAMIENTO DEL DATASET**"
      ],
      "metadata": {
        "id": "vwfuxHEIAmrN"
      }
    },
    {
      "cell_type": "markdown",
      "source": [
        "##Crear un CSV con las Rutas de las Imágenes y sus Etiquetas"
      ],
      "metadata": {
        "id": "_o-K9CELB5At"
      }
    },
    {
      "cell_type": "code",
      "execution_count": 1,
      "metadata": {
        "id": "DBKypwliADD4"
      },
      "outputs": [],
      "source": [
        "import os\n",
        "import pandas as pd"
      ]
    },
    {
      "cell_type": "code",
      "source": [
        "#Importamos los datos desde el drive\n",
        "from google.colab import drive\n",
        "drive.mount('/content/drive')"
      ],
      "metadata": {
        "colab": {
          "base_uri": "https://localhost:8080/"
        },
        "id": "NtejEnT3G5NC",
        "outputId": "84d5467c-90e9-403b-e708-d91fa2c3cd39"
      },
      "execution_count": 2,
      "outputs": [
        {
          "output_type": "stream",
          "name": "stdout",
          "text": [
            "Drive already mounted at /content/drive; to attempt to forcibly remount, call drive.mount(\"/content/drive\", force_remount=True).\n"
          ]
        }
      ]
    },
    {
      "cell_type": "code",
      "source": [
        "# Definir el directorio base donde se encuentran las imágenes\n",
        "base_dir = '/content/drive/MyDrive/SIS421-IA2/Laboratorios/LAB-01/Plantas_Medicinales'"
      ],
      "metadata": {
        "id": "mw5TdRnqCDMz"
      },
      "execution_count": 3,
      "outputs": []
    },
    {
      "cell_type": "code",
      "source": [
        "# Inicializar listas para almacenar las rutas de las imágenes y las etiquetas\n",
        "image_paths = []\n",
        "labels = []\n",
        "\n",
        "# Recorrer todas las carpetas y archivos en el directorio base\n",
        "for root, dirs, files in os.walk(base_dir):\n",
        "    for file in files:\n",
        "        if file.endswith(('jpg', 'jpeg', 'png')):\n",
        "            # Obtener la ruta completa de la imagen\n",
        "            file_path = os.path.join(root, file)\n",
        "            # Obtener la etiqueta de la imagen (nombre de la carpeta)\n",
        "            label = os.path.basename(os.path.dirname(file_path))\n",
        "            # Añadir la ruta de la imagen y la etiqueta a las listas\n",
        "            image_paths.append(file_path)\n",
        "            labels.append(label)"
      ],
      "metadata": {
        "id": "QQgTNMTPCRPV"
      },
      "execution_count": 4,
      "outputs": []
    },
    {
      "cell_type": "code",
      "source": [
        "# Crear un DataFrame con las rutas de las imágenes y sus etiquetas\n",
        "df = pd.DataFrame({\n",
        "    'image_path': image_paths,\n",
        "    'label': labels\n",
        "})\n",
        "\n",
        "# Guardar el DataFrame en un archivo CSV\n",
        "df.to_csv('/content/drive/MyDrive/SIS421-IA2/Laboratorios/LAB-01/plantas_medicinales.csv', index=False)"
      ],
      "metadata": {
        "id": "R2JOqWILCjFF"
      },
      "execution_count": 5,
      "outputs": []
    },
    {
      "cell_type": "code",
      "source": [
        "# Importamos el dataset crado\n",
        "df = pd.read_csv('/content/drive/MyDrive/SIS421-IA2/Laboratorios/LAB-01/plantas_medicinales.csv')\n",
        "\n",
        "# Mostramos el dataset\n",
        "df"
      ],
      "metadata": {
        "colab": {
          "base_uri": "https://localhost:8080/",
          "height": 423
        },
        "id": "hhAZQqWFHgqb",
        "outputId": "72e7947e-50bc-43c5-f490-ec029540bd91"
      },
      "execution_count": 6,
      "outputs": [
        {
          "output_type": "execute_result",
          "data": {
            "text/plain": [
              "                                             image_path       label\n",
              "0     /content/drive/MyDrive/SIS421-IA2/Laboratorios...  Arjun Leaf\n",
              "1     /content/drive/MyDrive/SIS421-IA2/Laboratorios...  Arjun Leaf\n",
              "2     /content/drive/MyDrive/SIS421-IA2/Laboratorios...  Arjun Leaf\n",
              "3     /content/drive/MyDrive/SIS421-IA2/Laboratorios...  Arjun Leaf\n",
              "4     /content/drive/MyDrive/SIS421-IA2/Laboratorios...  Arjun Leaf\n",
              "...                                                 ...         ...\n",
              "8127  /content/drive/MyDrive/SIS421-IA2/Laboratorios...  Curry Leaf\n",
              "8128  /content/drive/MyDrive/SIS421-IA2/Laboratorios...  Curry Leaf\n",
              "8129  /content/drive/MyDrive/SIS421-IA2/Laboratorios...  Curry Leaf\n",
              "8130  /content/drive/MyDrive/SIS421-IA2/Laboratorios...  Curry Leaf\n",
              "8131  /content/drive/MyDrive/SIS421-IA2/Laboratorios...  Curry Leaf\n",
              "\n",
              "[8132 rows x 2 columns]"
            ],
            "text/html": [
              "\n",
              "  <div id=\"df-27e14177-1686-41f1-86c7-dca6154a6012\" class=\"colab-df-container\">\n",
              "    <div>\n",
              "<style scoped>\n",
              "    .dataframe tbody tr th:only-of-type {\n",
              "        vertical-align: middle;\n",
              "    }\n",
              "\n",
              "    .dataframe tbody tr th {\n",
              "        vertical-align: top;\n",
              "    }\n",
              "\n",
              "    .dataframe thead th {\n",
              "        text-align: right;\n",
              "    }\n",
              "</style>\n",
              "<table border=\"1\" class=\"dataframe\">\n",
              "  <thead>\n",
              "    <tr style=\"text-align: right;\">\n",
              "      <th></th>\n",
              "      <th>image_path</th>\n",
              "      <th>label</th>\n",
              "    </tr>\n",
              "  </thead>\n",
              "  <tbody>\n",
              "    <tr>\n",
              "      <th>0</th>\n",
              "      <td>/content/drive/MyDrive/SIS421-IA2/Laboratorios...</td>\n",
              "      <td>Arjun Leaf</td>\n",
              "    </tr>\n",
              "    <tr>\n",
              "      <th>1</th>\n",
              "      <td>/content/drive/MyDrive/SIS421-IA2/Laboratorios...</td>\n",
              "      <td>Arjun Leaf</td>\n",
              "    </tr>\n",
              "    <tr>\n",
              "      <th>2</th>\n",
              "      <td>/content/drive/MyDrive/SIS421-IA2/Laboratorios...</td>\n",
              "      <td>Arjun Leaf</td>\n",
              "    </tr>\n",
              "    <tr>\n",
              "      <th>3</th>\n",
              "      <td>/content/drive/MyDrive/SIS421-IA2/Laboratorios...</td>\n",
              "      <td>Arjun Leaf</td>\n",
              "    </tr>\n",
              "    <tr>\n",
              "      <th>4</th>\n",
              "      <td>/content/drive/MyDrive/SIS421-IA2/Laboratorios...</td>\n",
              "      <td>Arjun Leaf</td>\n",
              "    </tr>\n",
              "    <tr>\n",
              "      <th>...</th>\n",
              "      <td>...</td>\n",
              "      <td>...</td>\n",
              "    </tr>\n",
              "    <tr>\n",
              "      <th>8127</th>\n",
              "      <td>/content/drive/MyDrive/SIS421-IA2/Laboratorios...</td>\n",
              "      <td>Curry Leaf</td>\n",
              "    </tr>\n",
              "    <tr>\n",
              "      <th>8128</th>\n",
              "      <td>/content/drive/MyDrive/SIS421-IA2/Laboratorios...</td>\n",
              "      <td>Curry Leaf</td>\n",
              "    </tr>\n",
              "    <tr>\n",
              "      <th>8129</th>\n",
              "      <td>/content/drive/MyDrive/SIS421-IA2/Laboratorios...</td>\n",
              "      <td>Curry Leaf</td>\n",
              "    </tr>\n",
              "    <tr>\n",
              "      <th>8130</th>\n",
              "      <td>/content/drive/MyDrive/SIS421-IA2/Laboratorios...</td>\n",
              "      <td>Curry Leaf</td>\n",
              "    </tr>\n",
              "    <tr>\n",
              "      <th>8131</th>\n",
              "      <td>/content/drive/MyDrive/SIS421-IA2/Laboratorios...</td>\n",
              "      <td>Curry Leaf</td>\n",
              "    </tr>\n",
              "  </tbody>\n",
              "</table>\n",
              "<p>8132 rows × 2 columns</p>\n",
              "</div>\n",
              "    <div class=\"colab-df-buttons\">\n",
              "\n",
              "  <div class=\"colab-df-container\">\n",
              "    <button class=\"colab-df-convert\" onclick=\"convertToInteractive('df-27e14177-1686-41f1-86c7-dca6154a6012')\"\n",
              "            title=\"Convert this dataframe to an interactive table.\"\n",
              "            style=\"display:none;\">\n",
              "\n",
              "  <svg xmlns=\"http://www.w3.org/2000/svg\" height=\"24px\" viewBox=\"0 -960 960 960\">\n",
              "    <path d=\"M120-120v-720h720v720H120Zm60-500h600v-160H180v160Zm220 220h160v-160H400v160Zm0 220h160v-160H400v160ZM180-400h160v-160H180v160Zm440 0h160v-160H620v160ZM180-180h160v-160H180v160Zm440 0h160v-160H620v160Z\"/>\n",
              "  </svg>\n",
              "    </button>\n",
              "\n",
              "  <style>\n",
              "    .colab-df-container {\n",
              "      display:flex;\n",
              "      gap: 12px;\n",
              "    }\n",
              "\n",
              "    .colab-df-convert {\n",
              "      background-color: #E8F0FE;\n",
              "      border: none;\n",
              "      border-radius: 50%;\n",
              "      cursor: pointer;\n",
              "      display: none;\n",
              "      fill: #1967D2;\n",
              "      height: 32px;\n",
              "      padding: 0 0 0 0;\n",
              "      width: 32px;\n",
              "    }\n",
              "\n",
              "    .colab-df-convert:hover {\n",
              "      background-color: #E2EBFA;\n",
              "      box-shadow: 0px 1px 2px rgba(60, 64, 67, 0.3), 0px 1px 3px 1px rgba(60, 64, 67, 0.15);\n",
              "      fill: #174EA6;\n",
              "    }\n",
              "\n",
              "    .colab-df-buttons div {\n",
              "      margin-bottom: 4px;\n",
              "    }\n",
              "\n",
              "    [theme=dark] .colab-df-convert {\n",
              "      background-color: #3B4455;\n",
              "      fill: #D2E3FC;\n",
              "    }\n",
              "\n",
              "    [theme=dark] .colab-df-convert:hover {\n",
              "      background-color: #434B5C;\n",
              "      box-shadow: 0px 1px 3px 1px rgba(0, 0, 0, 0.15);\n",
              "      filter: drop-shadow(0px 1px 2px rgba(0, 0, 0, 0.3));\n",
              "      fill: #FFFFFF;\n",
              "    }\n",
              "  </style>\n",
              "\n",
              "    <script>\n",
              "      const buttonEl =\n",
              "        document.querySelector('#df-27e14177-1686-41f1-86c7-dca6154a6012 button.colab-df-convert');\n",
              "      buttonEl.style.display =\n",
              "        google.colab.kernel.accessAllowed ? 'block' : 'none';\n",
              "\n",
              "      async function convertToInteractive(key) {\n",
              "        const element = document.querySelector('#df-27e14177-1686-41f1-86c7-dca6154a6012');\n",
              "        const dataTable =\n",
              "          await google.colab.kernel.invokeFunction('convertToInteractive',\n",
              "                                                    [key], {});\n",
              "        if (!dataTable) return;\n",
              "\n",
              "        const docLinkHtml = 'Like what you see? Visit the ' +\n",
              "          '<a target=\"_blank\" href=https://colab.research.google.com/notebooks/data_table.ipynb>data table notebook</a>'\n",
              "          + ' to learn more about interactive tables.';\n",
              "        element.innerHTML = '';\n",
              "        dataTable['output_type'] = 'display_data';\n",
              "        await google.colab.output.renderOutput(dataTable, element);\n",
              "        const docLink = document.createElement('div');\n",
              "        docLink.innerHTML = docLinkHtml;\n",
              "        element.appendChild(docLink);\n",
              "      }\n",
              "    </script>\n",
              "  </div>\n",
              "\n",
              "\n",
              "<div id=\"df-33e61691-f8fc-41d0-986b-5e5ac89a7b2a\">\n",
              "  <button class=\"colab-df-quickchart\" onclick=\"quickchart('df-33e61691-f8fc-41d0-986b-5e5ac89a7b2a')\"\n",
              "            title=\"Suggest charts\"\n",
              "            style=\"display:none;\">\n",
              "\n",
              "<svg xmlns=\"http://www.w3.org/2000/svg\" height=\"24px\"viewBox=\"0 0 24 24\"\n",
              "     width=\"24px\">\n",
              "    <g>\n",
              "        <path d=\"M19 3H5c-1.1 0-2 .9-2 2v14c0 1.1.9 2 2 2h14c1.1 0 2-.9 2-2V5c0-1.1-.9-2-2-2zM9 17H7v-7h2v7zm4 0h-2V7h2v10zm4 0h-2v-4h2v4z\"/>\n",
              "    </g>\n",
              "</svg>\n",
              "  </button>\n",
              "\n",
              "<style>\n",
              "  .colab-df-quickchart {\n",
              "      --bg-color: #E8F0FE;\n",
              "      --fill-color: #1967D2;\n",
              "      --hover-bg-color: #E2EBFA;\n",
              "      --hover-fill-color: #174EA6;\n",
              "      --disabled-fill-color: #AAA;\n",
              "      --disabled-bg-color: #DDD;\n",
              "  }\n",
              "\n",
              "  [theme=dark] .colab-df-quickchart {\n",
              "      --bg-color: #3B4455;\n",
              "      --fill-color: #D2E3FC;\n",
              "      --hover-bg-color: #434B5C;\n",
              "      --hover-fill-color: #FFFFFF;\n",
              "      --disabled-bg-color: #3B4455;\n",
              "      --disabled-fill-color: #666;\n",
              "  }\n",
              "\n",
              "  .colab-df-quickchart {\n",
              "    background-color: var(--bg-color);\n",
              "    border: none;\n",
              "    border-radius: 50%;\n",
              "    cursor: pointer;\n",
              "    display: none;\n",
              "    fill: var(--fill-color);\n",
              "    height: 32px;\n",
              "    padding: 0;\n",
              "    width: 32px;\n",
              "  }\n",
              "\n",
              "  .colab-df-quickchart:hover {\n",
              "    background-color: var(--hover-bg-color);\n",
              "    box-shadow: 0 1px 2px rgba(60, 64, 67, 0.3), 0 1px 3px 1px rgba(60, 64, 67, 0.15);\n",
              "    fill: var(--button-hover-fill-color);\n",
              "  }\n",
              "\n",
              "  .colab-df-quickchart-complete:disabled,\n",
              "  .colab-df-quickchart-complete:disabled:hover {\n",
              "    background-color: var(--disabled-bg-color);\n",
              "    fill: var(--disabled-fill-color);\n",
              "    box-shadow: none;\n",
              "  }\n",
              "\n",
              "  .colab-df-spinner {\n",
              "    border: 2px solid var(--fill-color);\n",
              "    border-color: transparent;\n",
              "    border-bottom-color: var(--fill-color);\n",
              "    animation:\n",
              "      spin 1s steps(1) infinite;\n",
              "  }\n",
              "\n",
              "  @keyframes spin {\n",
              "    0% {\n",
              "      border-color: transparent;\n",
              "      border-bottom-color: var(--fill-color);\n",
              "      border-left-color: var(--fill-color);\n",
              "    }\n",
              "    20% {\n",
              "      border-color: transparent;\n",
              "      border-left-color: var(--fill-color);\n",
              "      border-top-color: var(--fill-color);\n",
              "    }\n",
              "    30% {\n",
              "      border-color: transparent;\n",
              "      border-left-color: var(--fill-color);\n",
              "      border-top-color: var(--fill-color);\n",
              "      border-right-color: var(--fill-color);\n",
              "    }\n",
              "    40% {\n",
              "      border-color: transparent;\n",
              "      border-right-color: var(--fill-color);\n",
              "      border-top-color: var(--fill-color);\n",
              "    }\n",
              "    60% {\n",
              "      border-color: transparent;\n",
              "      border-right-color: var(--fill-color);\n",
              "    }\n",
              "    80% {\n",
              "      border-color: transparent;\n",
              "      border-right-color: var(--fill-color);\n",
              "      border-bottom-color: var(--fill-color);\n",
              "    }\n",
              "    90% {\n",
              "      border-color: transparent;\n",
              "      border-bottom-color: var(--fill-color);\n",
              "    }\n",
              "  }\n",
              "</style>\n",
              "\n",
              "  <script>\n",
              "    async function quickchart(key) {\n",
              "      const quickchartButtonEl =\n",
              "        document.querySelector('#' + key + ' button');\n",
              "      quickchartButtonEl.disabled = true;  // To prevent multiple clicks.\n",
              "      quickchartButtonEl.classList.add('colab-df-spinner');\n",
              "      try {\n",
              "        const charts = await google.colab.kernel.invokeFunction(\n",
              "            'suggestCharts', [key], {});\n",
              "      } catch (error) {\n",
              "        console.error('Error during call to suggestCharts:', error);\n",
              "      }\n",
              "      quickchartButtonEl.classList.remove('colab-df-spinner');\n",
              "      quickchartButtonEl.classList.add('colab-df-quickchart-complete');\n",
              "    }\n",
              "    (() => {\n",
              "      let quickchartButtonEl =\n",
              "        document.querySelector('#df-33e61691-f8fc-41d0-986b-5e5ac89a7b2a button');\n",
              "      quickchartButtonEl.style.display =\n",
              "        google.colab.kernel.accessAllowed ? 'block' : 'none';\n",
              "    })();\n",
              "  </script>\n",
              "</div>\n",
              "\n",
              "  <div id=\"id_7d736424-07ba-4240-873f-ea766a336c9e\">\n",
              "    <style>\n",
              "      .colab-df-generate {\n",
              "        background-color: #E8F0FE;\n",
              "        border: none;\n",
              "        border-radius: 50%;\n",
              "        cursor: pointer;\n",
              "        display: none;\n",
              "        fill: #1967D2;\n",
              "        height: 32px;\n",
              "        padding: 0 0 0 0;\n",
              "        width: 32px;\n",
              "      }\n",
              "\n",
              "      .colab-df-generate:hover {\n",
              "        background-color: #E2EBFA;\n",
              "        box-shadow: 0px 1px 2px rgba(60, 64, 67, 0.3), 0px 1px 3px 1px rgba(60, 64, 67, 0.15);\n",
              "        fill: #174EA6;\n",
              "      }\n",
              "\n",
              "      [theme=dark] .colab-df-generate {\n",
              "        background-color: #3B4455;\n",
              "        fill: #D2E3FC;\n",
              "      }\n",
              "\n",
              "      [theme=dark] .colab-df-generate:hover {\n",
              "        background-color: #434B5C;\n",
              "        box-shadow: 0px 1px 3px 1px rgba(0, 0, 0, 0.15);\n",
              "        filter: drop-shadow(0px 1px 2px rgba(0, 0, 0, 0.3));\n",
              "        fill: #FFFFFF;\n",
              "      }\n",
              "    </style>\n",
              "    <button class=\"colab-df-generate\" onclick=\"generateWithVariable('df')\"\n",
              "            title=\"Generate code using this dataframe.\"\n",
              "            style=\"display:none;\">\n",
              "\n",
              "  <svg xmlns=\"http://www.w3.org/2000/svg\" height=\"24px\"viewBox=\"0 0 24 24\"\n",
              "       width=\"24px\">\n",
              "    <path d=\"M7,19H8.4L18.45,9,17,7.55,7,17.6ZM5,21V16.75L18.45,3.32a2,2,0,0,1,2.83,0l1.4,1.43a1.91,1.91,0,0,1,.58,1.4,1.91,1.91,0,0,1-.58,1.4L9.25,21ZM18.45,9,17,7.55Zm-12,3A5.31,5.31,0,0,0,4.9,8.1,5.31,5.31,0,0,0,1,6.5,5.31,5.31,0,0,0,4.9,4.9,5.31,5.31,0,0,0,6.5,1,5.31,5.31,0,0,0,8.1,4.9,5.31,5.31,0,0,0,12,6.5,5.46,5.46,0,0,0,6.5,12Z\"/>\n",
              "  </svg>\n",
              "    </button>\n",
              "    <script>\n",
              "      (() => {\n",
              "      const buttonEl =\n",
              "        document.querySelector('#id_7d736424-07ba-4240-873f-ea766a336c9e button.colab-df-generate');\n",
              "      buttonEl.style.display =\n",
              "        google.colab.kernel.accessAllowed ? 'block' : 'none';\n",
              "\n",
              "      buttonEl.onclick = () => {\n",
              "        google.colab.notebook.generateWithVariable('df');\n",
              "      }\n",
              "      })();\n",
              "    </script>\n",
              "  </div>\n",
              "\n",
              "    </div>\n",
              "  </div>\n"
            ],
            "application/vnd.google.colaboratory.intrinsic+json": {
              "type": "dataframe",
              "variable_name": "df",
              "summary": "{\n  \"name\": \"df\",\n  \"rows\": 8132,\n  \"fields\": [\n    {\n      \"column\": \"image_path\",\n      \"properties\": {\n        \"dtype\": \"string\",\n        \"num_unique_values\": 8132,\n        \"samples\": [\n          \"/content/drive/MyDrive/SIS421-IA2/Laboratorios/LAB-01/Plantas_Medicinales/Arjun Leaf/Arjun Leaf Aug (1280).jpg\",\n          \"/content/drive/MyDrive/SIS421-IA2/Laboratorios/LAB-01/Plantas_Medicinales/Mint Leaf/Mint Leaf Aug (1500).jpg\",\n          \"/content/drive/MyDrive/SIS421-IA2/Laboratorios/LAB-01/Plantas_Medicinales/Marsh Pennywort Leaf/Marsh Pennywort Leaf Aug (720).jpg\"\n        ],\n        \"semantic_type\": \"\",\n        \"description\": \"\"\n      }\n    },\n    {\n      \"column\": \"label\",\n      \"properties\": {\n        \"dtype\": \"category\",\n        \"num_unique_values\": 6,\n        \"samples\": [\n          \"Arjun Leaf\",\n          \"Mint Leaf\",\n          \"Curry Leaf\"\n        ],\n        \"semantic_type\": \"\",\n        \"description\": \"\"\n      }\n    }\n  ]\n}"
            }
          },
          "metadata": {},
          "execution_count": 6
        }
      ]
    },
    {
      "cell_type": "code",
      "source": [
        "# Mostrar las primeras filas del dataset\n",
        "print(df.head())"
      ],
      "metadata": {
        "colab": {
          "base_uri": "https://localhost:8080/"
        },
        "id": "_hoCDLz5SCWM",
        "outputId": "fe6bea3b-654a-480b-81d5-b367ea6122f3"
      },
      "execution_count": 7,
      "outputs": [
        {
          "output_type": "stream",
          "name": "stdout",
          "text": [
            "                                          image_path       label\n",
            "0  /content/drive/MyDrive/SIS421-IA2/Laboratorios...  Arjun Leaf\n",
            "1  /content/drive/MyDrive/SIS421-IA2/Laboratorios...  Arjun Leaf\n",
            "2  /content/drive/MyDrive/SIS421-IA2/Laboratorios...  Arjun Leaf\n",
            "3  /content/drive/MyDrive/SIS421-IA2/Laboratorios...  Arjun Leaf\n",
            "4  /content/drive/MyDrive/SIS421-IA2/Laboratorios...  Arjun Leaf\n"
          ]
        }
      ]
    },
    {
      "cell_type": "code",
      "source": [
        "# Mostrar el número de columnas\n",
        "print(\"Número de columnas:\", len(df.columns))\n",
        "\n",
        "# Mostrar los nombres de las columnas\n",
        "print(\"Nombres de las columnas:\", df.columns)\n",
        "\n",
        "# Mostrar las clases únicas en el df\n",
        "clases_unicas = df['label'].unique()\n",
        "print(\"Clases únicas:\", clases_unicas)\n",
        "print(\"Número de clases:\", len(clases_unicas))\n"
      ],
      "metadata": {
        "colab": {
          "base_uri": "https://localhost:8080/"
        },
        "id": "ErB9FEbySO3U",
        "outputId": "66822512-29bd-497f-d4aa-ba32b4880108"
      },
      "execution_count": 8,
      "outputs": [
        {
          "output_type": "stream",
          "name": "stdout",
          "text": [
            "Número de columnas: 2\n",
            "Nombres de las columnas: Index(['image_path', 'label'], dtype='object')\n",
            "Clases únicas: ['Arjun Leaf' 'Mint Leaf' 'Marsh Pennywort Leaf' 'Neem Leaf' 'Rubble Leaf'\n",
            " 'Curry Leaf']\n",
            "Número de clases: 6\n"
          ]
        }
      ]
    },
    {
      "cell_type": "markdown",
      "source": [
        "##Importamos las Librerias"
      ],
      "metadata": {
        "id": "Ki4nuuMdWLzq"
      }
    },
    {
      "cell_type": "code",
      "source": [
        "!pip install --upgrade mxnet\n",
        "!pip install numpy==1.23.1"
      ],
      "metadata": {
        "colab": {
          "base_uri": "https://localhost:8080/"
        },
        "id": "dJETCg1LC8yP",
        "outputId": "3b24d933-a820-4dfd-ac65-3c83863339d5"
      },
      "execution_count": 9,
      "outputs": [
        {
          "output_type": "stream",
          "name": "stdout",
          "text": [
            "Requirement already satisfied: mxnet in /usr/local/lib/python3.10/dist-packages (1.9.1)\n",
            "Requirement already satisfied: numpy<2.0.0,>1.16.0 in /usr/local/lib/python3.10/dist-packages (from mxnet) (1.23.1)\n",
            "Requirement already satisfied: requests<3,>=2.20.0 in /usr/local/lib/python3.10/dist-packages (from mxnet) (2.32.3)\n",
            "Requirement already satisfied: graphviz<0.9.0,>=0.8.1 in /usr/local/lib/python3.10/dist-packages (from mxnet) (0.8.4)\n",
            "Requirement already satisfied: charset-normalizer<4,>=2 in /usr/local/lib/python3.10/dist-packages (from requests<3,>=2.20.0->mxnet) (3.3.2)\n",
            "Requirement already satisfied: idna<4,>=2.5 in /usr/local/lib/python3.10/dist-packages (from requests<3,>=2.20.0->mxnet) (3.7)\n",
            "Requirement already satisfied: urllib3<3,>=1.21.1 in /usr/local/lib/python3.10/dist-packages (from requests<3,>=2.20.0->mxnet) (2.0.7)\n",
            "Requirement already satisfied: certifi>=2017.4.17 in /usr/local/lib/python3.10/dist-packages (from requests<3,>=2.20.0->mxnet) (2024.7.4)\n",
            "Requirement already satisfied: numpy==1.23.1 in /usr/local/lib/python3.10/dist-packages (1.23.1)\n"
          ]
        }
      ]
    },
    {
      "cell_type": "code",
      "source": [
        "import numpy as np\n",
        "np.bool = np.bool_  # Reassign the deprecated alias"
      ],
      "metadata": {
        "id": "HfTLduZGEXaG"
      },
      "execution_count": 10,
      "outputs": []
    },
    {
      "cell_type": "code",
      "source": [
        "import pandas as pd\n",
        "import mxnet as mx\n",
        "from mxnet import gluon, autograd, nd\n",
        "from mxnet.gluon.data.vision import transforms\n",
        "from mxnet.gluon.data import Dataset\n",
        "from sklearn.model_selection import train_test_split\n",
        "# import numpy as np"
      ],
      "metadata": {
        "id": "PhwwccFYWLcS"
      },
      "execution_count": 11,
      "outputs": []
    },
    {
      "cell_type": "markdown",
      "source": [
        "##1. Cargar y Preprocesar el Dataset para el Modelo"
      ],
      "metadata": {
        "id": "UHxC_LuhCqCt"
      }
    },
    {
      "cell_type": "code",
      "source": [
        "\n",
        "# Definir la clase personalizada para cargar el dataset\n",
        "class MedicinalPlantsDataset(Dataset):\n",
        "    def __init__(self, csv_file, transform=None):\n",
        "        self.data = pd.read_csv(csv_file)\n",
        "        self.transform = transform\n",
        "        # Crear un diccionario para mapear las etiquetas de texto a enteros\n",
        "        self.label_to_idx = {label: idx for idx, label in enumerate(self.data['label'].unique())}\n",
        "        self.data['label'] = self.data['label'].map(self.label_to_idx)\n",
        "\n",
        "    def __len__(self):\n",
        "        return len(self.data)\n",
        "\n",
        "    def __getitem__(self, idx):\n",
        "        img_path = self.data.iloc[idx, 0]\n",
        "        label = self.data.iloc[idx, 1]\n",
        "        img = mx.image.imread(img_path)\n",
        "        if self.transform:\n",
        "            img = self.transform(img)\n",
        "        return img, np.int32(label)\n",
        "\n",
        "# Definir las transformaciones\n",
        "transform_fn = transforms.Compose([\n",
        "    transforms.Resize(128),\n",
        "    transforms.ToTensor(),\n",
        "    transforms.Normalize(mean=[0.5, 0.5, 0.5], std=[0.5, 0.5, 0.5])\n",
        "])\n",
        "\n",
        "\n"
      ],
      "metadata": {
        "id": "1iLk_j3uCri-"
      },
      "execution_count": 12,
      "outputs": []
    },
    {
      "cell_type": "code",
      "source": [
        "# Cargar el dataset\n",
        "dataset = MedicinalPlantsDataset('/content/drive/MyDrive/SIS421-IA2/Laboratorios/LAB-01/plantas_medicinales.csv', transform=transform_fn)\n",
        "\n",
        "# # Verificar el dataset\n",
        "# for i in range(len(dataset)):\n",
        "#     img, label = dataset[i]\n",
        "\n",
        "#     # Verificar las dimensiones de la imagen\n",
        "#     if img.shape != (3, 128, 128):\n",
        "#         print(f\"Error en la imagen {i}: {img_path}\")\n",
        "\n"
      ],
      "metadata": {
        "id": "IuL-JjY3vPip"
      },
      "execution_count": 14,
      "outputs": []
    },
    {
      "cell_type": "code",
      "source": [
        "# Dividir en datos de entrenamiento y prueba usando sklearn\n",
        "train_indices, test_indices = train_test_split(list(range(len(dataset))), test_size=0.2, random_state=42)\n",
        "\n",
        "# Crear subconjuntos de entrenamiento y prueba\n",
        "train_dataset = gluon.data.dataset.ArrayDataset(*zip(*[dataset[i] for i in train_indices]))\n",
        "test_dataset = gluon.data.dataset.ArrayDataset(*zip(*[dataset[i] for i in test_indices]))\n",
        "\n",
        "# Crear los iteradores de datos\n",
        "train_loader = gluon.data.DataLoader(train_dataset, batch_size=32, shuffle=True)\n",
        "test_loader = gluon.data.DataLoader(test_dataset, batch_size=32, shuffle=False)"
      ],
      "metadata": {
        "id": "JOlGDiX8vR1I"
      },
      "execution_count": 15,
      "outputs": []
    },
    {
      "cell_type": "markdown",
      "source": [
        "Dividimos los datos de entrenamiento y para la prueba para un formato que se pueda implementar."
      ],
      "metadata": {
        "id": "MiEjb4OBvURQ"
      }
    },
    {
      "cell_type": "markdown",
      "source": [
        " # **2: Definición del Modelo MLP**"
      ],
      "metadata": {
        "id": "JhYwjqqdWuAt"
      }
    },
    {
      "cell_type": "code",
      "source": [
        "# Definicion del modelo\n",
        "\n",
        "class MLP(gluon.nn.Block):\n",
        "    def __init__(self, num_classes):\n",
        "        super(MLP, self).__init__()\n",
        "\n",
        "        # Definir las capas del modelo\n",
        "        with self.name_scope():\n",
        "            # Capa para aplanar la entrada 3D (imagen) en un vector 1D\n",
        "            self.flatten = gluon.nn.Flatten()\n",
        "\n",
        "            # Primera capa densa (fully connected) con 512 unidades y activación ReLU\n",
        "            self.dense1 = gluon.nn.Dense(512, activation='relu')\n",
        "            # Capa de dropout para prevenir el sobreajuste\n",
        "            self.dropout1 = gluon.nn.Dropout(0.5)\n",
        "\n",
        "            # Segunda capa densa con 256 unidades y activación ReLU\n",
        "            self.dense2 = gluon.nn.Dense(256, activation='relu')\n",
        "            # Otra capa de dropout\n",
        "            self.dropout2 = gluon.nn.Dropout(0.5)\n",
        "\n",
        "            # Capa de salida con un número de unidades igual al número de clases\n",
        "            self.output = gluon.nn.Dense(num_classes)\n",
        "\n",
        "    def forward(self, x):\n",
        "        # Paso hacia adelante: pasar los datos a través de cada capa\n",
        "        x = self.flatten(x)      # Aplanar la entrada\n",
        "        x = self.dense1(x)       # Primera capa densa\n",
        "        x = self.dropout1(x)     # Dropout\n",
        "        x = self.dense2(x)       # Segunda capa densa\n",
        "        x = self.dropout2(x)     # Dropout\n",
        "        x = self.output(x)       # Capa de salida\n",
        "        return x                 # Retorna la salida final del modelo\n",
        "\n"
      ],
      "metadata": {
        "id": "lu0Rzef6N_ux"
      },
      "execution_count": 16,
      "outputs": []
    },
    {
      "cell_type": "markdown",
      "source": [
        "- Dentro de la clase conviertimos la entrada, que es una imagen 3D (altura, ancho, canales), en un vector 1D. Esto es necesario porque las capas densas en un MLP trabajan con vectores, no con imágenes 2D o 3D.\n",
        "\n",
        "- Los dense1 y dense 2, Estas son capas densas, donde cada neurona está conectada a todas las neuronas de la capa anterior. relu se usa como función de activación, que introduce no linealidades al modelo y ayuda a aprender funciones más complejas.\n",
        "\n",
        "- Los dropourt son capas apagan aleatoriamente un porcentaje de neuronas durante el entrenamiento, lo que ayuda a prevenir el sobreajuste al reducir la dependencia de ciertas características durante el aprendizaje.\n",
        "\n",
        "- El Output esta es la capa final del modelo. El número de unidades (neuronas) es igual al número de clases que estás clasificando. La salida será un vector donde cada elemento representa la probabilidad de que la imagen pertenezca a una de las clases."
      ],
      "metadata": {
        "id": "FDeFlJAT1qnr"
      }
    },
    {
      "cell_type": "code",
      "source": [
        "# Determinar el número de clases\n",
        "num_classes = len(dataset.data['label'].unique())\n"
      ],
      "metadata": {
        "id": "9kMyFmck09vP"
      },
      "execution_count": 17,
      "outputs": []
    },
    {
      "cell_type": "markdown",
      "source": [
        "- Al determinar el número de clases en nuestro dataset, que es el número de categorías diferentes que las imágenes pueden representar. Este valor se usará para definir el número de neuronas en la capa de salida del MLP."
      ],
      "metadata": {
        "id": "k6ehtuXh3RJa"
      }
    },
    {
      "cell_type": "code",
      "source": [
        "# Instanciamos el modelo de nuestro MLP\n",
        "net = MLP(num_classes)\n",
        "\n",
        "# Inicializar los parámetros del modelo\n",
        "net.initialize(mx.init.Xavier(), ctx=mx.cpu())"
      ],
      "metadata": {
        "id": "-RNPfM_p3rPG"
      },
      "execution_count": 18,
      "outputs": []
    },
    {
      "cell_type": "markdown",
      "source": [
        "Inicializamos los parámetros en el modelo utilizando el método de inicialización Xavier. esto nos ayuda a mantener la escala de los gradientes durante el entrenamiento.\n",
        "\n",
        "Ademas el mx.cpu nos indica que el modelo entrenará en la CPU, ya que no contamos con algunos recursos buenos."
      ],
      "metadata": {
        "id": "71BbUFRN3uTq"
      }
    },
    {
      "cell_type": "markdown",
      "source": [
        "##3: Definición del Loss y el Optimizer\n",
        "\n",
        "Definimos la función de pérdida (loss) y el optimizador que usaremos para entrenar el modelo."
      ],
      "metadata": {
        "id": "RLudu0DzXFcU"
      }
    },
    {
      "cell_type": "code",
      "source": [
        "# Definir la función de pérdida y el optimizador\n",
        "learning_rate = 0.001  # Tasa de aprendizaje\n",
        "\n",
        "# Definir la función de pérdida y el optimizador\n",
        "loss_fn = gluon.loss.SoftmaxCrossEntropyLoss()\n",
        "trainer = gluon.Trainer(net.collect_params(), 'adam', {'learning_rate': learning_rate})"
      ],
      "metadata": {
        "id": "L3WjSyCwXGzs"
      },
      "execution_count": 19,
      "outputs": []
    },
    {
      "cell_type": "markdown",
      "source": [
        "- SoftmaxCrossEntropyLoss: Es una función de pérdida comúnmente utilizada para tareas de clasificación. Calcula la entropía cruzada entre las predicciones (después de aplicar softmax) y las etiquetas verdaderas.\n",
        "\n",
        "- La funcion de gluon.Trainer: Este es el optimizador que actualizará los pesos del modelo en base a los gradientes calculados. Aquí se usa el optimizador adam, que es una versión avanzada del descenso de gradiente.\n",
        "\n",
        "- Ademas establecemos el valor para la tasa de aprendizaje que es de 0.001."
      ],
      "metadata": {
        "id": "nAi62cvl4kVB"
      }
    },
    {
      "cell_type": "markdown",
      "source": [
        "##4: Entrenamiento del Modelo"
      ],
      "metadata": {
        "id": "gnXF87sCXStM"
      }
    },
    {
      "cell_type": "code",
      "source": [
        "# Entrenamiento del modelo\n",
        "\n",
        "epocas = 10  # Número de épocas de entrenamiento\n",
        "\n",
        "for epoch in range(epocas):\n",
        "\n",
        "    train_loss = 0.0  # Inicializar la pérdida de entrenamiento en 0\n",
        "    # Se itera sobre los lotes de datos en el train_loader. train_loader divide los datos en pequeños lotes,\n",
        "    # lo que permite entrenar en partes más pequeñas y controlar la memoria utilizada.\n",
        "    for data, label in train_loader:\n",
        "        # Pasamos los datos y las etiquetas a la CPU\n",
        "        data = data.as_in_context(mx.cpu())\n",
        "        label = label.as_in_context(mx.cpu())\n",
        "        # Calculamos los gradientes\n",
        "        with autograd.record():\n",
        "            output = net(data)\n",
        "            # Calculamos la pérdida comparando las predicciones con las etiquetas reales.\n",
        "            loss = loss_fn(output, label)\n",
        "        loss.backward()  # Calculamos los gradientes\n",
        "        trainer.step(data.shape[0])\n",
        "        # Calculammos la pérdida total para calcular la pérdida promedio por época.\n",
        "        train_loss += loss.mean().asscalar()\n",
        "\n",
        "    # Imprimir la pérdida promedio por época\n",
        "    print(f\"Epoca [{epoch+1}/{epocas}], Loss: {train_loss/len(train_loader):.4f}\")\n"
      ],
      "metadata": {
        "colab": {
          "base_uri": "https://localhost:8080/"
        },
        "id": "sRDnxDegXUdB",
        "outputId": "f1b422df-f4b3-482f-8eab-0a71dbd496e2"
      },
      "execution_count": 20,
      "outputs": [
        {
          "output_type": "stream",
          "name": "stdout",
          "text": [
            "Epoca [1/10], Loss: 6.6682\n",
            "Epoca [2/10], Loss: 1.6599\n",
            "Epoca [3/10], Loss: 1.6285\n",
            "Epoca [4/10], Loss: 1.6780\n",
            "Epoca [5/10], Loss: 1.6623\n",
            "Epoca [6/10], Loss: 1.6106\n",
            "Epoca [7/10], Loss: 1.6326\n",
            "Epoca [8/10], Loss: 1.6094\n",
            "Epoca [9/10], Loss: 1.5745\n",
            "Epoca [10/10], Loss: 1.5324\n"
          ]
        }
      ]
    },
    {
      "cell_type": "markdown",
      "source": [
        "##5: Evaluación del Modelo"
      ],
      "metadata": {
        "id": "Wn1_hl_XXfWZ"
      }
    },
    {
      "cell_type": "code",
      "source": [
        "# Evaluación del modelo\n",
        "\n",
        "# Utilizamos la métrica de precisión para evaluar el rendimiento del modelo en el conjunto de prueba.\n",
        "metric = mx.metric.Accuracy()\n",
        "\n",
        "# Itera sobre los datos de prueba en el test_loader.\n",
        "for data, label in test_loader:\n",
        "    data = data.as_in_context(mx.cpu())\n",
        "    label = label.as_in_context(mx.cpu())\n",
        "    # Realizamos predicciones en los datos de prueba\n",
        "    output = net(data)\n",
        "    #  Se obtiene la clase predicha para cada imagen (la clase con la mayor probabilidad).\n",
        "    predictions = nd.argmax(output, axis=1)\n",
        "    # Actualizamos la métrica con las predicciones y las etiquetas reales.\n",
        "    metric.update(labels=label, preds=predictions)\n",
        "\n",
        "# Imprimimos la precisión del modelo en el conjunto de prueba.\n",
        "print(f\"Test Accuracy: {metric.get()[1]*100:.2f}%\")"
      ],
      "metadata": {
        "colab": {
          "base_uri": "https://localhost:8080/"
        },
        "id": "qHwPQ9ipXg7h",
        "outputId": "cbf756be-547f-4fb1-8d70-229e27aeb435"
      },
      "execution_count": 21,
      "outputs": [
        {
          "output_type": "stream",
          "name": "stdout",
          "text": [
            "Test Accuracy: 47.57%\n"
          ]
        }
      ]
    },
    {
      "cell_type": "markdown",
      "source": [
        "#**Explicación Detallada del Uso del Framework**\n",
        "\n",
        "Ahora una vez implementado el Framework explicaremos de como se implementó y como es que funciona este Framewook."
      ],
      "metadata": {
        "id": "krAAAswNmJHR"
      }
    },
    {
      "cell_type": "markdown",
      "source": [
        "##¿Qué es Gluon?\n",
        "\n",
        "Gluon es un framework de deep learning que fue desarrollado por Apache MXNet y Amazon Web Services (AWS), diseñado para ser flexible, eficiente y fácil de usar. Gluon permite construir, entrenar y probar redes neuronales de manera dinámica, lo que facilita la experimentación y el ajuste de modelos en comparación con otros frameworks de deep learning que requieren definir toda la estructura de la red antes de la ejecución.\n",
        "\n",
        "\n",
        "##Principales Características de Gluon\n",
        "\n",
        "- **Flexibilidad y Facilidad de Uso**: Gluon ofrece una API intuitiva que permite a los desarrolladores crear modelos de deep learning de manera sencilla utilizando Python. La capacidad de definir redes neuronales de forma imperativa, como si fuera un simple código Python, permite a los investigadores y desarrolladores iterar rápidamente en el desarrollo de modelos.\n",
        "\n",
        "- **Definición Dinámica de Redes**: A diferencia de otros frameworks, Gluon no requiere que las redes sean definidas por completo antes de ser ejecutadas. Esto permite modificar y depurar el modelo durante el entrenamiento, lo cual es muy útil para la experimentación.\n",
        "\n",
        "- **Capacidad de Entrenamiento con Alto Rendimiento**: Aunque Gluon es fácil de usar, también está optimizado para ofrecer un rendimiento de alto nivel en entrenamientos a gran escala. Utiliza técnicas de optimización como la computación automática de gradientes (autograd) y es compatible con GPUs, lo que permite entrenar modelos de manera eficiente."
      ],
      "metadata": {
        "id": "3oS60oxLyKRx"
      }
    },
    {
      "cell_type": "markdown",
      "source": [
        "## Ventajas y Desventajas de Gluon\n",
        "\n",
        "###Ventajas:\n",
        "\n",
        "- Simplicidad y Claridad: La API de Gluon es intuitiva y se siente como una extensión natural de Python.\n",
        "\n",
        "- Flexibilidad Dinámica: La definición dinámica de redes neuronales permite mayor flexibilidad y facilidad para probar diferentes arquitecturas.\n",
        "\n",
        "- Compatibilidad con MXNet: Gluon se integra estrechamente con MXNet, aprovechando su eficiencia y soporte para diferentes dispositivos de hardware.\n",
        "\n",
        "###Desventajas:\n",
        "\n",
        "- Menor Popularidad: Comparado con frameworks como TensorFlow o PyTorch, Gluon tiene una menor comunidad de usuarios, lo que puede traducirse en menos recursos disponibles.\n",
        "\n",
        "- Dependencia de MXNet: Aunque MXNet es un potente motor de deep learning, algunos usuarios prefieren la mayor modularidad y ecosistema de PyTorch o TensorFlow.\n",
        "\n",
        "##**Conclusión**\n",
        "\n",
        "Gluon es un framework poderoso y fácil de usar para desarrollar modelos de deep learning. Su enfoque en la simplicidad y la flexibilidad lo hace ideal para aquellos que buscan experimentar rápidamente con diferentes arquitecturas de redes neuronales. A través de la implementación de un MLP para la clasificación de imágenes de plantas medicinales, se ha podido ver cómo Gluon facilita cada paso del desarrollo y entrenamiento del modelo, desde la definición del mismo hasta la evaluación de su rendimiento.\n",
        "\n",
        "\n",
        "\n",
        "\n",
        "\n",
        "\n",
        "\n",
        "\n"
      ],
      "metadata": {
        "id": "n5uoaahQy7Fa"
      }
    },
    {
      "cell_type": "code",
      "source": [],
      "metadata": {
        "id": "epad_e8AyM3U"
      },
      "execution_count": null,
      "outputs": []
    }
  ]
}